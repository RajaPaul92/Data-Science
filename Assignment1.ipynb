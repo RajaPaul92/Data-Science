{
  "nbformat": 4,
  "nbformat_minor": 0,
  "metadata": {
    "colab": {
      "name": "Assignment1.ipynb",
      "provenance": [],
      "toc_visible": true,
      "authorship_tag": "ABX9TyPvtbVkK89jLAInYvWx+lfv",
      "include_colab_link": true
    },
    "kernelspec": {
      "name": "python3",
      "display_name": "Python 3"
    }
  },
  "cells": [
    {
      "cell_type": "markdown",
      "metadata": {
        "id": "view-in-github",
        "colab_type": "text"
      },
      "source": [
        "<a href=\"https://colab.research.google.com/github/RajaPaul92/Data-Science/blob/master/Assignment1.ipynb\" target=\"_parent\"><img src=\"https://colab.research.google.com/assets/colab-badge.svg\" alt=\"Open In Colab\"/></a>"
      ]
    },
    {
      "cell_type": "markdown",
      "metadata": {
        "id": "2j4GLd-bGQn7",
        "colab_type": "text"
      },
      "source": [
        "Problem1"
      ]
    },
    {
      "cell_type": "code",
      "metadata": {
        "id": "vGsB-awHGGBU",
        "colab_type": "code",
        "outputId": "40b7cb63-1a35-4c0d-ae19-ba0cb4d52d2d",
        "colab": {
          "base_uri": "https://localhost:8080/",
          "height": 33
        }
      },
      "source": [
        "weight = int(input(\"Enter your weight\"))"
      ],
      "execution_count": 0,
      "outputs": [
        {
          "output_type": "stream",
          "text": [
            "Enter your weight73\n"
          ],
          "name": "stdout"
        }
      ]
    },
    {
      "cell_type": "code",
      "metadata": {
        "id": "eptKTrpqGWRe",
        "colab_type": "code",
        "outputId": "7b8b2b84-78cb-4895-bc4b-e4f115d0cca8",
        "colab": {
          "base_uri": "https://localhost:8080/",
          "height": 33
        }
      },
      "source": [
        "preferred_height = input(\"What is your preferred unit of height? Type 'F' for feet and 'M' for meters: \")"
      ],
      "execution_count": 0,
      "outputs": [
        {
          "output_type": "stream",
          "text": [
            "What is your preferred unit of height? Type 'F' for feet and 'M' for meters: F\n"
          ],
          "name": "stdout"
        }
      ]
    },
    {
      "cell_type": "code",
      "metadata": {
        "id": "PcvLwvxGHB9E",
        "colab_type": "code",
        "outputId": "960ddc31-7b22-48bc-ed19-c6f7bc55d301",
        "colab": {
          "base_uri": "https://localhost:8080/",
          "height": 66
        }
      },
      "source": [
        "if preferred_height == \"F\":\n",
        "    feet = int(input(\"Enter feet: \"))\n",
        "    inch = int(input(\"Enter inches: \"))\n",
        "    height = (feet * 12 + inch) * 0.0254\n",
        "    print(height)\n",
        "elif preferred_height == \"M\":\n",
        "    height = int(input(\"Whats your height in meter? \"))"
      ],
      "execution_count": 0,
      "outputs": [
        {
          "output_type": "stream",
          "text": [
            "Enter feet: 5\n",
            "Enter inches: 10\n",
            "1.778\n"
          ],
          "name": "stdout"
        }
      ]
    },
    {
      "cell_type": "code",
      "metadata": {
        "id": "jWSnYpENJZs4",
        "colab_type": "code",
        "outputId": "f62dc10d-3654-43fc-a7af-fb272f24a4cf",
        "colab": {
          "base_uri": "https://localhost:8080/",
          "height": 33
        }
      },
      "source": [
        "BMI = weight/height ** 2\n",
        "print(\"whats your BMI: \", BMI)\n",
        "if BMI < 18.5:\n",
        "    print(\"UNDER WEIGHT\")\n",
        "elif 18.5 <= BMI < 25:\n",
        "    print(\"NORMAL\")\n",
        "elif 25 <= BMI < 30:\n",
        "    print(\"OVER WEIGHT\")\n",
        "elif BMI > 30:\n",
        "    print(\"VERY OVER WEIGHT\") "
      ],
      "execution_count": 0,
      "outputs": [
        {
          "output_type": "stream",
          "text": [
            "NORMAL\n"
          ],
          "name": "stdout"
        }
      ]
    },
    {
      "cell_type": "markdown",
      "metadata": {
        "id": "DyuZHS3aOPx1",
        "colab_type": "text"
      },
      "source": [
        "PROBLEM 2 \n",
        "factorial function"
      ]
    },
    {
      "cell_type": "code",
      "metadata": {
        "id": "Bv3pZLl6Kio2",
        "colab_type": "code",
        "colab": {}
      },
      "source": [
        "def factorail(n):\n",
        "    temp = 1\n",
        "    for i in range(1,n):\n",
        "        temp *= n\n",
        "        n = n-1\n",
        "    return temp"
      ],
      "execution_count": 0,
      "outputs": []
    },
    {
      "cell_type": "code",
      "metadata": {
        "id": "OfmbPMbBO1Tc",
        "colab_type": "code",
        "outputId": "cc2da272-e40b-49bc-9465-3c810ee1dcd5",
        "colab": {
          "base_uri": "https://localhost:8080/",
          "height": 33
        }
      },
      "source": [
        "print(factorail(5))"
      ],
      "execution_count": 0,
      "outputs": [
        {
          "output_type": "stream",
          "text": [
            "120\n"
          ],
          "name": "stdout"
        }
      ]
    },
    {
      "cell_type": "code",
      "metadata": {
        "id": "879DCUJNO5OG",
        "colab_type": "code",
        "colab": {}
      },
      "source": [
        "def factorial_recursive(n):\n",
        "    return 1 if (n ==1 or n == 0) else n * factorial_recursive(n-1)"
      ],
      "execution_count": 0,
      "outputs": []
    },
    {
      "cell_type": "code",
      "metadata": {
        "id": "qAle55CyZb8i",
        "colab_type": "code",
        "outputId": "36f3f6dd-aba9-4957-bebc-df5da3b44c2c",
        "colab": {
          "base_uri": "https://localhost:8080/",
          "height": 33
        }
      },
      "source": [
        "print(factorial_recursive(5))"
      ],
      "execution_count": 4,
      "outputs": [
        {
          "output_type": "stream",
          "text": [
            "120\n"
          ],
          "name": "stdout"
        }
      ]
    },
    {
      "cell_type": "markdown",
      "metadata": {
        "id": "19_GiUh6Z2jY",
        "colab_type": "text"
      },
      "source": [
        "Solution3"
      ]
    },
    {
      "cell_type": "code",
      "metadata": {
        "id": "nGmdXJRTZfiO",
        "colab_type": "code",
        "colab": {}
      },
      "source": [
        "def compute(x , n):\n",
        "    result = (x ** n)/factorial_recursive(n)\n",
        "    return(result)"
      ],
      "execution_count": 0,
      "outputs": []
    },
    {
      "cell_type": "code",
      "metadata": {
        "id": "My6wSdwkaS-b",
        "colab_type": "code",
        "outputId": "e6c9705e-dc08-4daf-c251-03b6bf857323",
        "colab": {
          "base_uri": "https://localhost:8080/",
          "height": 33
        }
      },
      "source": [
        "print(compute(4, 5))"
      ],
      "execution_count": 6,
      "outputs": [
        {
          "output_type": "stream",
          "text": [
            "8.533333333333333\n"
          ],
          "name": "stdout"
        }
      ]
    },
    {
      "cell_type": "markdown",
      "metadata": {
        "id": "q3pM9SKihiCl",
        "colab_type": "text"
      },
      "source": [
        "Solution 4"
      ]
    },
    {
      "cell_type": "code",
      "metadata": {
        "id": "96NLdpvIaW0x",
        "colab_type": "code",
        "colab": {}
      },
      "source": [
        "def compute_sum(x, N):\n",
        "    sum = 1\n",
        "    for i in range(N):\n",
        "        sum = sum + compute(x, i+1)\n",
        "    return sum\n"
      ],
      "execution_count": 0,
      "outputs": []
    },
    {
      "cell_type": "code",
      "metadata": {
        "id": "c6duhFomtiza",
        "colab_type": "code",
        "colab": {
          "base_uri": "https://localhost:8080/",
          "height": 33
        },
        "outputId": "d5c98c3a-f68f-486d-c8c2-1aa0e103ad1b"
      },
      "source": [
        "print(compute_sum(2,3))"
      ],
      "execution_count": 19,
      "outputs": [
        {
          "output_type": "stream",
          "text": [
            "6.333333333333333\n"
          ],
          "name": "stdout"
        }
      ]
    },
    {
      "cell_type": "code",
      "metadata": {
        "id": "GZ715IpstrSE",
        "colab_type": "code",
        "colab": {}
      },
      "source": [
        "def complex_sum(x, epsilon):\n",
        "    sum = 1\n",
        "    var = epsilon\n",
        "    i = 1\n",
        "    while var >= epsilon:\n",
        "        var = compute(x, i)\n",
        "        sum += var\n",
        "        i += 1\n",
        "    return sum"
      ],
      "execution_count": 0,
      "outputs": []
    },
    {
      "cell_type": "code",
      "metadata": {
        "id": "yEy5no_YvVcK",
        "colab_type": "code",
        "colab": {
          "base_uri": "https://localhost:8080/",
          "height": 33
        },
        "outputId": "adb72448-3829-48e3-b957-dbe4442eb857"
      },
      "source": [
        "print(complex_sum(2,0.01))"
      ],
      "execution_count": 13,
      "outputs": [
        {
          "output_type": "stream",
          "text": [
            "7.387301587301587\n"
          ],
          "name": "stdout"
        }
      ]
    },
    {
      "cell_type": "code",
      "metadata": {
        "id": "PPuo-3JTvdtH",
        "colab_type": "code",
        "colab": {}
      },
      "source": [
        "def complex_sum(x, epsilon):\n",
        "    sum = 1\n",
        "    i = 1\n",
        "    while True: \n",
        "        var = compute(x, i)\n",
        "        sum += var\n",
        "        i += 1\n",
        "        if var < epsilon:\n",
        "            break\n",
        "    return sum"
      ],
      "execution_count": 0,
      "outputs": []
    },
    {
      "cell_type": "code",
      "metadata": {
        "id": "dDgDUibPv9om",
        "colab_type": "code",
        "colab": {
          "base_uri": "https://localhost:8080/",
          "height": 33
        },
        "outputId": "4bfe464e-9802-4273-d1af-34068a631a88"
      },
      "source": [
        "print(complex_sum(3,0.01))"
      ],
      "execution_count": 15,
      "outputs": [
        {
          "output_type": "stream",
          "text": [
            "20.08410308441558\n"
          ],
          "name": "stdout"
        }
      ]
    },
    {
      "cell_type": "code",
      "metadata": {
        "id": "qcjoLN4rwC3Z",
        "colab_type": "code",
        "colab": {
          "base_uri": "https://localhost:8080/",
          "height": 33
        },
        "outputId": "8b45c584-c560-474a-a6aa-2a7374f660be"
      },
      "source": [
        "p = 2.1\n",
        "q = 1.3\n",
        "\n",
        "v1 = compute_sum(p, 100) * compute_sum(q, 100)\n",
        "v2 = compute_sum(p+q, 100)\n",
        "\n",
        "print(v1, v2, v2-v1)"
      ],
      "execution_count": 20,
      "outputs": [
        {
          "output_type": "stream",
          "text": [
            "29.964100047397018 29.96410004739703 1.0658141036401503e-14\n"
          ],
          "name": "stdout"
        }
      ]
    },
    {
      "cell_type": "code",
      "metadata": {
        "id": "AErseJYEw0Pk",
        "colab_type": "code",
        "colab": {
          "base_uri": "https://localhost:8080/",
          "height": 183
        },
        "outputId": "a7f57ed9-874c-43d3-8816-b5cc5ccc924d"
      },
      "source": [
        "for i in range(10):\n",
        "    print(i, compute_sum(i,100))"
      ],
      "execution_count": 21,
      "outputs": [
        {
          "output_type": "stream",
          "text": [
            "0 1.0\n",
            "1 2.7182818284590455\n",
            "2 7.389056098930649\n",
            "3 20.08553692318766\n",
            "4 54.598150033144265\n",
            "5 148.41315910257657\n",
            "6 403.4287934927351\n",
            "7 1096.6331584284578\n",
            "8 2980.957987041728\n",
            "9 8103.083927575384\n"
          ],
          "name": "stdout"
        }
      ]
    },
    {
      "cell_type": "code",
      "metadata": {
        "id": "vThGUGzJxVdy",
        "colab_type": "code",
        "colab": {}
      },
      "source": [
        ""
      ],
      "execution_count": 0,
      "outputs": []
    }
  ]
}