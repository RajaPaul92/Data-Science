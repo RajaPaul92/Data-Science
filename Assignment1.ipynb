{
  "nbformat": 4,
  "nbformat_minor": 0,
  "metadata": {
    "colab": {
      "name": "Assignment1.ipynb",
      "provenance": [],
      "toc_visible": true,
      "authorship_tag": "ABX9TyPmx+TWUD2yosZbhKri8rw7",
      "include_colab_link": true
    },
    "kernelspec": {
      "name": "python3",
      "display_name": "Python 3"
    }
  },
  "cells": [
    {
      "cell_type": "markdown",
      "metadata": {
        "id": "view-in-github",
        "colab_type": "text"
      },
      "source": [
        "<a href=\"https://colab.research.google.com/github/RajaPaul92/Data-Science/blob/master/Assignment1.ipynb\" target=\"_parent\"><img src=\"https://colab.research.google.com/assets/colab-badge.svg\" alt=\"Open In Colab\"/></a>"
      ]
    },
    {
      "cell_type": "markdown",
      "metadata": {
        "id": "2j4GLd-bGQn7",
        "colab_type": "text"
      },
      "source": [
        "Problem1"
      ]
    },
    {
      "cell_type": "code",
      "metadata": {
        "id": "vGsB-awHGGBU",
        "colab_type": "code",
        "colab": {
          "base_uri": "https://localhost:8080/",
          "height": 34
        },
        "outputId": "40b7cb63-1a35-4c0d-ae19-ba0cb4d52d2d"
      },
      "source": [
        "weight = int(input(\"Enter your weight\"))"
      ],
      "execution_count": 2,
      "outputs": [
        {
          "output_type": "stream",
          "text": [
            "Enter your weight73\n"
          ],
          "name": "stdout"
        }
      ]
    },
    {
      "cell_type": "code",
      "metadata": {
        "id": "eptKTrpqGWRe",
        "colab_type": "code",
        "colab": {
          "base_uri": "https://localhost:8080/",
          "height": 34
        },
        "outputId": "7b8b2b84-78cb-4895-bc4b-e4f115d0cca8"
      },
      "source": [
        "preferred_height = input(\"What is your preferred unit of height? Type 'F' for feet and 'M' for meters: \")"
      ],
      "execution_count": 4,
      "outputs": [
        {
          "output_type": "stream",
          "text": [
            "What is your preferred unit of height? Type 'F' for feet and 'M' for meters: F\n"
          ],
          "name": "stdout"
        }
      ]
    },
    {
      "cell_type": "code",
      "metadata": {
        "id": "PcvLwvxGHB9E",
        "colab_type": "code",
        "colab": {
          "base_uri": "https://localhost:8080/",
          "height": 68
        },
        "outputId": "960ddc31-7b22-48bc-ed19-c6f7bc55d301"
      },
      "source": [
        "if preferred_height == \"F\":\n",
        "    feet = int(input(\"Enter feet: \"))\n",
        "    inch = int(input(\"Enter inches: \"))\n",
        "    height = (feet * 12 + inch) * 0.0254\n",
        "    print(height)\n",
        "elif preferred_height == \"M\":\n",
        "    height = int(input(\"Whats your height in meter? \"))"
      ],
      "execution_count": 8,
      "outputs": [
        {
          "output_type": "stream",
          "text": [
            "Enter feet: 5\n",
            "Enter inches: 10\n",
            "1.778\n"
          ],
          "name": "stdout"
        }
      ]
    },
    {
      "cell_type": "code",
      "metadata": {
        "id": "jWSnYpENJZs4",
        "colab_type": "code",
        "colab": {
          "base_uri": "https://localhost:8080/",
          "height": 34
        },
        "outputId": "f62dc10d-3654-43fc-a7af-fb272f24a4cf"
      },
      "source": [
        "BMI = weight/height ** 2\n",
        "if BMI < 18.5:\n",
        "    print(\"UNDER WEIGHT\")\n",
        "elif 18.5 <= BMI < 25:\n",
        "    print(\"NORMAL\")\n",
        "elif 25 <= BMI < 30:\n",
        "    print(\"OVER WEIGHT\")\n",
        "elif BMI > 30:\n",
        "    print(\"VERY OVER WEIGHT\") "
      ],
      "execution_count": 9,
      "outputs": [
        {
          "output_type": "stream",
          "text": [
            "NORMAL\n"
          ],
          "name": "stdout"
        }
      ]
    },
    {
      "cell_type": "markdown",
      "metadata": {
        "id": "DyuZHS3aOPx1",
        "colab_type": "text"
      },
      "source": [
        "PROBLEM 2 \n",
        "factorial function"
      ]
    },
    {
      "cell_type": "code",
      "metadata": {
        "id": "Bv3pZLl6Kio2",
        "colab_type": "code",
        "colab": {}
      },
      "source": [
        "def factorail(n):\n",
        "    temp = 1\n",
        "    for i in range(1,n):\n",
        "        temp *= n\n",
        "        n = n-1\n",
        "    return temp"
      ],
      "execution_count": 0,
      "outputs": []
    },
    {
      "cell_type": "code",
      "metadata": {
        "id": "OfmbPMbBO1Tc",
        "colab_type": "code",
        "colab": {
          "base_uri": "https://localhost:8080/",
          "height": 34
        },
        "outputId": "cc2da272-e40b-49bc-9465-3c810ee1dcd5"
      },
      "source": [
        "print(factorail(5))"
      ],
      "execution_count": 31,
      "outputs": [
        {
          "output_type": "stream",
          "text": [
            "120\n"
          ],
          "name": "stdout"
        }
      ]
    },
    {
      "cell_type": "code",
      "metadata": {
        "id": "879DCUJNO5OG",
        "colab_type": "code",
        "colab": {}
      },
      "source": [
        "def factorial_recursive(n):\n",
        "    return 1 if (n ==1 or n == 0) else n * factorial_recursive(n-1)"
      ],
      "execution_count": 0,
      "outputs": []
    },
    {
      "cell_type": "code",
      "metadata": {
        "id": "qAle55CyZb8i",
        "colab_type": "code",
        "colab": {
          "base_uri": "https://localhost:8080/",
          "height": 34
        },
        "outputId": "31360724-777c-4f1f-9c86-c8458e207451"
      },
      "source": [
        "print(factorial_recursive(5))"
      ],
      "execution_count": 35,
      "outputs": [
        {
          "output_type": "stream",
          "text": [
            "120\n"
          ],
          "name": "stdout"
        }
      ]
    },
    {
      "cell_type": "markdown",
      "metadata": {
        "id": "19_GiUh6Z2jY",
        "colab_type": "text"
      },
      "source": [
        "Solution3"
      ]
    },
    {
      "cell_type": "code",
      "metadata": {
        "id": "nGmdXJRTZfiO",
        "colab_type": "code",
        "colab": {}
      },
      "source": [
        "def compute(x , n):\n",
        "    result = (x ** n)/ float(factorial_recursive(n))\n",
        "    return(result)"
      ],
      "execution_count": 0,
      "outputs": []
    },
    {
      "cell_type": "code",
      "metadata": {
        "id": "My6wSdwkaS-b",
        "colab_type": "code",
        "colab": {
          "base_uri": "https://localhost:8080/",
          "height": 51
        },
        "outputId": "eefab3b2-2bbd-4469-b9c3-bb8c8d73bc9a"
      },
      "source": [
        "print(compute(4.5, 5))"
      ],
      "execution_count": 48,
      "outputs": [
        {
          "output_type": "stream",
          "text": [
            "1845.28125\n",
            "None\n"
          ],
          "name": "stdout"
        }
      ]
    },
    {
      "cell_type": "code",
      "metadata": {
        "id": "96NLdpvIaW0x",
        "colab_type": "code",
        "colab": {}
      },
      "source": [
        ""
      ],
      "execution_count": 0,
      "outputs": []
    }
  ]
}